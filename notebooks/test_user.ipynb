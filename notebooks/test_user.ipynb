{
 "cells": [
  {
   "cell_type": "code",
   "execution_count": null,
   "metadata": {},
   "outputs": [],
   "source": [
    "### Import the package\n",
    "import storypy as sp # check if this is used for something else\n",
    "import esmvaltool\n",
    "from esmvaltool.diag_scripts.shared import run_diagnostic, get_cfg, group_metadata\n",
    "from esmvaltool.diag_scripts.shared._base import _get_input_data_files\n",
    "import pandas as pd\n",
    "import xarray as xr\n",
    "import numpy as np"
   ]
  },
  {
   "cell_type": "code",
   "execution_count": null,
   "metadata": {},
   "outputs": [],
   "source": [
    "\n",
    "def parse_config(file):\n",
    "    \"\"\"Parse the settings file.\"\"\"\n",
    "    config = get_cfg(file)           \n",
    "    config['input_data'] = _get_input_data_files(config)\n",
    "    return config"
   ]
  },
  {
   "cell_type": "code",
   "execution_count": null,
   "metadata": {},
   "outputs": [],
   "source": [
    "user_config = dict(\n",
    "    # Choose region selection method: 'box' or 'mask'\n",
    "    region_method = 'box',  # Set to 'box' or 'mask'\n",
    "    # Define the bounding box for the desired region if using 'box'\n",
    "    box = {\n",
    "        'lon_min': 10, 'lon_max': 20,  # Example region\n",
    "        'lat_min': 40, 'lat_max': 50\n",
    "    },\n",
    "    # Define the region_id for regionmask if using 'mask'\n",
    "    #region_id = int(input(\"Please enter a region ID from the list of IPCC region list: \"))\n",
    "    region_id = 18,  # Adjusted region ID\n",
    "    season = \"DJF\"  # Specify the season here (e.g., \"DJF\" for winter)\n",
    ")\n",
    "\n",
    "config= parse_config('/climca/people/ralawode/esmvaltool_output/full_storyline_analysis_complete_20240923_140137/run/multiple_regression_indices/multiple_regresion/settings.yml')\n",
    "#with run_diagnostic() as config:\n",
    "cs.main(config, user_config)"
   ]
  },
  {
   "cell_type": "code",
   "execution_count": null,
   "metadata": {},
   "outputs": [],
   "source": []
  }
 ],
 "metadata": {
  "kernelspec": {
   "display_name": "esmvaltool_user",
   "language": "python",
   "name": "python3"
  },
  "language_info": {
   "name": "python",
   "version": "3.12.6"
  }
 },
 "nbformat": 4,
 "nbformat_minor": 2
}
