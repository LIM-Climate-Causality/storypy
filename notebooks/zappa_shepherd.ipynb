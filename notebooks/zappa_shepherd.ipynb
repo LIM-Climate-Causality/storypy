{
 "cells": [
  {
   "cell_type": "markdown",
   "metadata": {},
   "source": []
  },
  {
   "cell_type": "code",
   "execution_count": 1,
   "metadata": {},
   "outputs": [],
   "source": [
    "import storypy as sp\n",
    "import pandas as pd\n",
    "import xarray as xr\n",
    "import numpy as np\n",
    "import matplotlib.pyplot as plt"
   ]
  },
  {
   "cell_type": "code",
   "execution_count": null,
   "metadata": {},
   "outputs": [],
   "source": [
    "from storypy.data import read_drivers\n",
    "# Plot boxplot of Global Warming, Tropical Warming, Polar Warming and Stratospheric Polar Vortex\n",
    "\n",
    "rds = read_drivers()\n",
    "models = rds.index.tolist()\n",
    "# Enhanced boxplot with customizations\n",
    "plt.figure(figsize=(8, 6))\n",
    "rds.boxplot(patch_artist=True, \n",
    "           boxprops=dict(facecolor='lightblue', color='blue'),\n",
    "           whiskerprops=dict(color='green', linewidth=2),\n",
    "           capprops=dict(color='red', linewidth=2),\n",
    "           flierprops=dict(marker='o', color='black', markersize=8))\n",
    "\n",
    "plt.title('Customized Boxplot')\n",
    "plt.ylabel('Values')\n",
    "plt.show()"
   ]
  },
  {
   "cell_type": "code",
   "execution_count": null,
   "metadata": {},
   "outputs": [],
   "source": [
    "from storypy.data import read_ua_regression_coefficients\n",
    "\n",
    "data = read_ua_regression_coefficients().sel(lat=slice(-88,88)) \n",
    "coefficients = [ data.pw, data.ta, data.spv ]\n",
    "levels = [np.arange(-.12,.13,.01)] * 3\n",
    "extent = [[-20,60,20,60]] * 3\n",
    "cmaps = ['RdBu_r'] * 3\n",
    "titles = ['Polar Amplification','Tropical amplification','Stratospheric Polar Vortex']\n",
    "fig = sp.create_three_panel_figure(coefficients, extent, levels, cmaps, titles)"
   ]
  },
  {
   "cell_type": "code",
   "execution_count": null,
   "metadata": {},
   "outputs": [],
   "source": [
    "from storypy.data import read_ua_R2\n",
    "\n",
    "\n",
    "# Usage:\n",
    "data = read_ua_R2().sel(lat=slice(-88,88)).ua * 100\n",
    "levels = np.arange(0, 100, 10)\n",
    "extent=[-180, 180, 20, 90]\n",
    "sp.hemispheric_plot(data, levels, extent, cmap=\"OrRd\", title=\"Stereographic Projection (Northern Hemisphere)\")"
   ]
  },
  {
   "cell_type": "code",
   "execution_count": null,
   "metadata": {},
   "outputs": [],
   "source": [
    "from storypy.data import read_pr_regression_coefficients\n",
    "\n",
    "data = read_pr_regression_coefficients().sel(lat=slice(-88,88)) * 86400\n",
    "sc = 1.26\n",
    "coefficients = [ data.pw, data.ta, data.spv ]\n",
    "levels = [np.arange(-.08,.09,.01)] * 3\n",
    "extent = [[-20,60,20,60]] * 3\n",
    "cmaps = ['PuOr'] * 3\n",
    "titles = ['Polar Amplification','Tropical amplification','Stratospheric Polar Vortex']\n",
    "fig = sp.create_three_panel_figure(coefficients, extent, levels, cmaps, titles)"
   ]
  },
  {
   "cell_type": "code",
   "execution_count": null,
   "metadata": {},
   "outputs": [],
   "source": [
    "from storypy.data import read_pr_R2\n",
    "\n",
    "\n",
    "# Usage:\n",
    "data = read_pr_R2().sel(lat=slice(-88,88)).pr * 100\n",
    "levels = np.arange(0, 100, 10)\n",
    "extent=[-180, 180, 20, 90]\n",
    "sp.hemispheric_plot(data, levels, extent, cmap=\"OrRd\", title=\"Stereographic Projection (Northern Hemisphere)\")"
   ]
  },
  {
   "cell_type": "code",
   "execution_count": null,
   "metadata": {},
   "outputs": [],
   "source": [
    "from storypy.data import read_scaled_standardized_drivers\n",
    "import pandas as pd\n",
    "\n",
    "rds = read_scaled_standardized_drivers()\n",
    "models = rds.index.tolist()\n",
    "fig = sp.plot_ellipse(models,rds[\"spv\"].values,rds[\"ta\"].values,corr=\"no\",x_label=\"Tropical Warming\",y_label=\"Stratospheric Polar Vortex\")"
   ]
  },
  {
   "cell_type": "code",
   "execution_count": null,
   "metadata": {},
   "outputs": [],
   "source": [
    "from storypy.data import read_pr_regression_coefficients\n",
    "import numpy as np\n",
    "\n",
    "### Plot coefficients from multiple linear regression for precipitation\n",
    "data = read_pr_regression_coefficients().sel(lat=slice(-88,88)) * 86400\n",
    "sc = 1.26\n",
    "storylines = [data.MEM + sc*data.spv - sc*data.ta, data.MEM + sc*data.spv + sc*data.ta, data.MEM - sc*data.spv - sc*data.ta,data.MEM - sc*data.spv + sc*data.ta ,  data.MEM]\n",
    "levels = [np.arange(-.3,.35,.05)] * 5\n",
    "extent = [[-20,60,20,60]] * 5\n",
    "cmaps = ['PuOr'] * 5\n",
    "titles = ['low TW + strong SPV','high TW + strong SPV','low TW + weak SPV','high TW + weak SPV','multi-model ensemble mean']\n",
    "fig = sp.create_five_panel_figure(storylines, extent, levels, cmaps, titles, white_range=(-0.1, 0.1))"
   ]
  },
  {
   "cell_type": "code",
   "execution_count": null,
   "metadata": {},
   "outputs": [],
   "source": [
    "from storypy.data import read_ua_regression_coefficients\n",
    "import numpy as np\n",
    "\n",
    "### Plot coefficients from multiple linear regression for wind\n",
    "data = read_ua_regression_coefficients().sel(lat=slice(-88,88))\n",
    "sc = 1.26\n",
    "storylines = [data.MEM + sc*data.spv - sc*data.ta, data.MEM + sc*data.spv + sc*data.ta, data.MEM - sc*data.spv - sc*data.ta,data.MEM - sc*data.spv + sc*data.ta ,  data.MEM]\n",
    "levels = [np.arange(-.6,.7,.1)] * 5\n",
    "extent = [[-100,60,20,80]] * 5\n",
    "cmaps = ['RdBu_r'] * 5\n",
    "titles = ['low TW + strong SPV','high TW + strong SPV','low TW + weak SPV','high TW + weak SPV','multi-model ensemble mean']\n",
    "fig = sp.create_five_panel_figure(storylines, extent, levels, cmaps, titles, white_range=(-0.1, 0.1))\n",
    "# Save figures\n",
    "#path_plots = '/climca/people/jmindlin/esmvaltool_output/zappa_shepherd_CMIP6_20241204_165252/plots/multiple_regression_indices/multiple_regresion/regression_output'"
   ]
  }
 ],
 "metadata": {
  "kernelspec": {
   "display_name": "esmvaltool_user",
   "language": "python",
   "name": "python3"
  },
  "language_info": {
   "codemirror_mode": {
    "name": "ipython",
    "version": 3
   },
   "file_extension": ".py",
   "mimetype": "text/x-python",
   "name": "python",
   "nbconvert_exporter": "python",
   "pygments_lexer": "ipython3",
   "version": "3.12.6"
  }
 },
 "nbformat": 4,
 "nbformat_minor": 2
}
